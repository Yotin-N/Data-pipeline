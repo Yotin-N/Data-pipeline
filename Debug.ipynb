{
 "cells": [
  {
   "cell_type": "code",
   "execution_count": 1,
   "metadata": {},
   "outputs": [],
   "source": [
    "import os\n",
    "import pandas as pd\n",
    "import numpy as np \n",
    "from sqlalchemy import create_engine, text\n",
    "from dotenv import load_dotenv\n",
    "from datetime import datetime, timedelta\n",
    "import logging\n"
   ]
  },
  {
   "cell_type": "code",
   "execution_count": 2,
   "metadata": {},
   "outputs": [],
   "source": [
    "load_dotenv()\n",
    "\n",
    "DB_USER = os.getenv('DB_USER')\n",
    "DB_PASSWORD = os.getenv('DB_PASSWORD')\n",
    "DB_HOST = os.getenv('DB_HOST')\n",
    "DB_PORT = os.getenv('DB_PORT')\n",
    "DB_NAME = os.getenv('DB_NAME')\n",
    "\n",
    "SOURCE_TABLE_A = \"DS_BKC_Infineon_TMP-NVD-01_BY_LOT_Daily_6AM\"\n",
    "SOURCE_TABLE_B = \"DS_BKC_MSP_Yield_Lot\"\n",
    "TARGET_TABLE = \"DS_BKC_PACK_MSP\""
   ]
  },
  {
   "cell_type": "code",
   "execution_count": 3,
   "metadata": {},
   "outputs": [],
   "source": [
    "def get_current_week_range_sat_fri():\n",
    "    \"\"\"\n",
    "    Calculates the start (Saturday) and end date (Friday) of the week\n",
    "    containing the current day.\n",
    "    \"\"\"\n",
    "    today = datetime.now().date()\n",
    "    # Calculate days to subtract to get to the *previous* Saturday\n",
    "    # today.weekday(): Mon=0, Tue=1, Wed=2, Thu=3, Fri=4, Sat=5, Sun=6\n",
    "    # We want Saturday (5) to be day 0 of our target week.\n",
    "    # Offset: Sat=0, Sun=1, Mon=2, Tue=3, Wed=4, Thu=5, Fri=6\n",
    "    days_since_last_saturday = (today.weekday() + 2) % 7\n",
    "    start_of_week = today - timedelta(days=days_since_last_saturday) # Saturday\n",
    "    end_of_week = start_of_week + timedelta(days=6) # Friday\n",
    "    logging.info(f\"Current Sat-Fri week range: {start_of_week} to {end_of_week}\")\n",
    "    return start_of_week, end_of_week"
   ]
  },
  {
   "cell_type": "code",
   "execution_count": null,
   "metadata": {},
   "outputs": [],
   "source": [
    "try:\n",
    "    # Construct the database URL\n",
    "    db_url = f\"postgresql+psycopg2://{DB_USER}:{DB_PASSWORD}@{DB_HOST}:{DB_PORT}/{DB_NAME}\"\n",
    "    \n",
    "    # Create the engine\n",
    "    engine = create_engine(db_url)\n",
    "    \n",
    "    # Connect to the database\n",
    "    with engine.connect() as connection:\n",
    "        logging.info(\"Successfully connected to the PostgreSQL database.\")\n",
    "\n",
    "        print('Successfully connected to the PostgreSQL database.')\n",
    "        # Execute a simple query to test the connection\n",
    "        connection.execute(text(\"SELECT 1\"))\n",
    "except Exception as e:\n",
    "    logging.error(f\"Database connection failed: {e}\")"
   ]
  }
 ],
 "metadata": {
  "kernelspec": {
   "display_name": "infineon",
   "language": "python",
   "name": "python3"
  },
  "language_info": {
   "codemirror_mode": {
    "name": "ipython",
    "version": 3
   },
   "file_extension": ".py",
   "mimetype": "text/x-python",
   "name": "python",
   "nbconvert_exporter": "python",
   "pygments_lexer": "ipython3",
   "version": "3.12.3"
  }
 },
 "nbformat": 4,
 "nbformat_minor": 2
}
